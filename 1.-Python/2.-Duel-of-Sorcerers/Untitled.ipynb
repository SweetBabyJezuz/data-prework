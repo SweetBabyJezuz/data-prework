{
 "cells": [
  {
   "cell_type": "code",
   "execution_count": 49,
   "id": "a388e1d4-c196-4a21-9707-e508dc36fd2e",
   "metadata": {},
   "outputs": [],
   "source": [
    "def who_won(player_choice, cpu_choice):\n",
    "    dic = {\"rock\" : 1 , \"paper\" : 2, \"scissors\" : 3, \"spock\":  4, \"lizard\" : 5}\n",
    "    if cpu_choice == player_choice:\n",
    "        return 0\n",
    "    elif dic[cpu_choice] % 5 == (dic[player_choice] + 1) % 5:\n",
    "        return 1\n",
    "    elif dic[cpu_choice] % 5 == (dic[player_choice] + 2) % 5:\n",
    "        return 1\n",
    "    else:\n",
    "        return 2\n",
    "        "
   ]
  },
  {
   "cell_type": "code",
   "execution_count": 51,
   "id": "953557d8-1523-4792-8331-a3e02d76efdd",
   "metadata": {},
   "outputs": [
    {
     "ename": "NameError",
     "evalue": "name 'lizard' is not defined",
     "output_type": "error",
     "traceback": [
      "\u001b[1;31m---------------------------------------------------------------------------\u001b[0m",
      "\u001b[1;31mNameError\u001b[0m                                 Traceback (most recent call last)",
      "\u001b[1;32m<ipython-input-51-0b9f1fe15933>\u001b[0m in \u001b[0;36m<module>\u001b[1;34m\u001b[0m\n\u001b[1;32m----> 1\u001b[1;33m \u001b[0mwho_won\u001b[0m\u001b[1;33m(\u001b[0m\u001b[0mlizard\u001b[0m\u001b[1;33m,\u001b[0m \u001b[0mscissors\u001b[0m\u001b[1;33m)\u001b[0m\u001b[1;33m\u001b[0m\u001b[1;33m\u001b[0m\u001b[0m\n\u001b[0m",
      "\u001b[1;31mNameError\u001b[0m: name 'lizard' is not defined"
     ]
    }
   ],
   "source": [
    "who_won(lizard, scissors)"
   ]
  },
  {
   "cell_type": "code",
   "execution_count": null,
   "id": "ceca384a-4a88-46da-8950-9f976534c148",
   "metadata": {},
   "outputs": [],
   "source": []
  }
 ],
 "metadata": {
  "kernelspec": {
   "display_name": "Python 3",
   "language": "python",
   "name": "python3"
  },
  "language_info": {
   "codemirror_mode": {
    "name": "ipython",
    "version": 3
   },
   "file_extension": ".py",
   "mimetype": "text/x-python",
   "name": "python",
   "nbconvert_exporter": "python",
   "pygments_lexer": "ipython3",
   "version": "3.8.8"
  }
 },
 "nbformat": 4,
 "nbformat_minor": 5
}
