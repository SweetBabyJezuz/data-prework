{
 "cells": [
  {
   "cell_type": "markdown",
   "metadata": {},
   "source": [
    "<img src=\"https://bit.ly/2VnXWr2\" width=\"100\" align=\"left\">"
   ]
  },
  {
   "cell_type": "markdown",
   "metadata": {},
   "source": [
    "# Rock, Paper & Scissors\n",
    "\n",
    "Let's play the famous game against our computer. You can check the rules [here](https://en.wikipedia.org/wiki/Rock%E2%80%93paper%E2%80%93scissors). \n",
    "\n",
    "## Task\n",
    "Create a program that imitates the playability of the well known game of rock, paper, scissors. Follow the guidelines provided.\n",
    "\n",
    "## Tools\n",
    "1. Loop: **for/while**\n",
    "2. Functions: **input(), print()...**\n",
    "3. Conditional statements: **if, elif, else**\n",
    "4. Definition of functions. Modular programming\n",
    "5. Import modules\n",
    "\n",
    "**To solve this challenge, the use of functions is recommended.**\n",
    "\n",
    "#### 1. Import the choice function of the random module."
   ]
  },
  {
   "cell_type": "code",
   "execution_count": 296,
   "metadata": {},
   "outputs": [],
   "source": [
    "import random"
   ]
  },
  {
   "cell_type": "markdown",
   "metadata": {},
   "source": [
    "#### 2. Create a list that includes the 3 possible gesture options of the game: 'rock', 'paper' or 'scissors'. Store the list in a variable called `gestures`."
   ]
  },
  {
   "cell_type": "code",
   "execution_count": 297,
   "metadata": {},
   "outputs": [],
   "source": [
    "gestures = [\"rock\" , \"paper\", \"scissors\"]"
   ]
  },
  {
   "cell_type": "markdown",
   "metadata": {},
   "source": [
    "#### 3. Create a variable called `n_rounds` to store the maximum number of rounds to play in a game. \n",
    "Remember that the number of rounds must be odd: 1, 3, 5, ..."
   ]
  },
  {
   "cell_type": "code",
   "execution_count": null,
   "metadata": {},
   "outputs": [],
   "source": [
    "\n",
    "n_rounds = 3\n",
    "x = n_rounds % 2\n",
    "if x == 0:\n",
    "    n_rounds += 1\n",
    "    print(\"It must be an odd number, so it will be changed to the next higher odd number:\", n_rounds)\n",
    "elif n_rounds < 0:\n",
    "    abs(n_rounds)\n",
    "    print(\"It must be a positive number, so it will be changed to a positive number:\", n_rounds)\n",
    "else:\n",
    "    print(n_rounds)"
   ]
  },
  {
   "cell_type": "markdown",
   "metadata": {},
   "source": [
    "#### 4. Create a variable called `rounds_to_win` to store the number of rounds that a player must win to win the game.\n",
    "**Hint**: the value stored in `rounds_to_win` depends on the value of `n_rounds`. "
   ]
  },
  {
   "cell_type": "code",
   "execution_count": 299,
   "metadata": {},
   "outputs": [
    {
     "name": "stdout",
     "output_type": "stream",
     "text": [
      "2\n"
     ]
    }
   ],
   "source": [
    "rounds_to_win = int(n_rounds / 2) + 1\n",
    "print(rounds_to_win)"
   ]
  },
  {
   "cell_type": "markdown",
   "metadata": {},
   "source": [
    "#### 5. Create two variables to store the number of rounds that the computer and the player have won. Call these variables `cpu_score` and `player_score`."
   ]
  },
  {
   "cell_type": "code",
   "execution_count": 324,
   "metadata": {},
   "outputs": [],
   "source": [
    "cpu_score = 0\n",
    "player_score = 0"
   ]
  },
  {
   "cell_type": "markdown",
   "metadata": {},
   "source": [
    "#### 6. Define a function that randomly returns one of the 3 gesture options.\n",
    "You will use this function to simulate the gesture choice of the computer. "
   ]
  },
  {
   "cell_type": "code",
   "execution_count": 301,
   "metadata": {},
   "outputs": [],
   "source": [
    "def rand():\n",
    "    cpu_gesture = random.choice(gestures)\n",
    "    return cpu_gesture"
   ]
  },
  {
   "cell_type": "markdown",
   "metadata": {},
   "source": [
    "#### 7. Define a function that asks the player which is the gesture he or she wants to show: 'rock', 'paper' or 'scissors'.\n",
    "The player should only be allowed to choose one of the 3 gesture options. If the player's choice is not rock, paper or scissors, keep asking until it is."
   ]
  },
  {
   "cell_type": "code",
   "execution_count": 303,
   "metadata": {},
   "outputs": [],
   "source": [
    "def choose():\n",
    "    print(\"Please choose your gesture:\\nrock    paper   scissors\")\n",
    "    player_choice = str(input())\n",
    "    while player_choice not in gestures:\n",
    "        print(\"Please choose your gesture:\\nrock    paper   scissors\")\n",
    "        player_choice = str(input())\n",
    "    print(\"You have chosen:\", player_choice)\n",
    "    return player_choice"
   ]
  },
  {
   "cell_type": "markdown",
   "metadata": {},
   "source": [
    "#### 8. Define a function that checks who won a round. \n",
    "The function should return 0 if there is a tie, 1 if the computer wins and 2 if the player wins."
   ]
  },
  {
   "cell_type": "code",
   "execution_count": 305,
   "metadata": {
    "tags": []
   },
   "outputs": [],
   "source": [
    "def who_won(player_choice, cpu_choice):\n",
    "    dic = {\"rock\" : 1 , \"paper\" : 2, \"scissors\" : 3}\n",
    "    if cpu_choice == player_choice:\n",
    "        return 0\n",
    "    elif dic[cpu_choice] % 3 == (dic[player_choice] + 1) % 3:\n",
    "        return 1\n",
    "    else:\n",
    "        return 2"
   ]
  },
  {
   "cell_type": "markdown",
   "metadata": {},
   "source": [
    "#### 9. Define a function that prints the choice of the computer, the choice of the player and a message that announces who won the current round. \n",
    "You should also use this function to update the variables that count the number of rounds that the computer and the player have won. The score of the winner increases by one point. If there is a tie, the score does not increase."
   ]
  },
  {
   "cell_type": "code",
   "execution_count": null,
   "metadata": {
    "tags": []
   },
   "outputs": [],
   "source": [
    "def game():\n",
    "    y = choose()\n",
    "    z = rand()\n",
    "    print(\"the computer has chosen:\", z)\n",
    "    x = who_won(y, z)\n",
    "    if x == 1:\n",
    "        print(\"CPU wins this round\\n\")\n",
    "        return 1\n",
    "    elif x == 2:\n",
    "        print(\"Player wins this round\\n\")\n",
    "        return 2\n",
    "    else:\n",
    "        print(\"This round ends up in a tie\\n\")\n",
    "        return 0\n"
   ]
  },
  {
   "cell_type": "markdown",
   "metadata": {},
   "source": [
    "#### 10. Now it's time to code the execution of the game using the functions and variables you defined above. \n",
    "\n",
    "First, create a loop structure that repeats while no player reaches the minimum score necessary to win and the number of rounds is less than the maximum number of rounds to play in a game.  \n",
    "\n",
    "Inside the loop, use the functions and variables above to create the execution of a round: ask for the player's choice, generate the random choice of the computer, show the round results, update the scores, etc. "
   ]
  },
  {
   "cell_type": "code",
   "execution_count": 365,
   "metadata": {},
   "outputs": [
    {
     "name": "stdout",
     "output_type": "stream",
     "text": [
      "Please choose your gesture:\n",
      "rock    paper   scissors\n"
     ]
    },
    {
     "name": "stdin",
     "output_type": "stream",
     "text": [
      " rock\n"
     ]
    },
    {
     "name": "stdout",
     "output_type": "stream",
     "text": [
      "You have chosen: rock\n",
      "the computer has chosen: paper\n",
      "\n",
      "CPU wins this round\n",
      "\n",
      "Please choose your gesture:\n",
      "rock    paper   scissors\n"
     ]
    },
    {
     "name": "stdin",
     "output_type": "stream",
     "text": [
      " rock\n"
     ]
    },
    {
     "name": "stdout",
     "output_type": "stream",
     "text": [
      "You have chosen: rock\n",
      "the computer has chosen: scissors\n",
      "\n",
      "Player wins this round\n",
      "\n",
      "Please choose your gesture:\n",
      "rock    paper   scissors\n"
     ]
    },
    {
     "name": "stdin",
     "output_type": "stream",
     "text": [
      " rock\n"
     ]
    },
    {
     "name": "stdout",
     "output_type": "stream",
     "text": [
      "You have chosen: rock\n",
      "the computer has chosen: paper\n",
      "\n",
      "CPU wins this round\n",
      "\n"
     ]
    }
   ],
   "source": [
    "i = 0\n",
    "cpu_score = 0\n",
    "player_score = 0\n",
    "\n",
    "while i < n_rounds and player_score < rounds_to_win and cpu_score < rounds_to_win:\n",
    "    i += 1\n",
    "    x = game()\n",
    "    if x == 1:\n",
    "        cpu_score += 1\n",
    "    elif x == 2:\n",
    "        player_score += 1\n"
   ]
  },
  {
   "cell_type": "markdown",
   "metadata": {},
   "source": [
    "#### 11. Print the winner of the game based on who won more rounds.\n",
    "Remember that the game might be tied. "
   ]
  },
  {
   "cell_type": "code",
   "execution_count": 363,
   "metadata": {},
   "outputs": [
    {
     "name": "stdout",
     "output_type": "stream",
     "text": [
      "Computer wins the game\n"
     ]
    }
   ],
   "source": [
    "if player_score > cpu_score:\n",
    "    print(\"Player wins the game\")\n",
    "elif player_score < cpu_score:\n",
    "    print(\"Computer wins the game\")\n",
    "else:\n",
    "    print(\"The game ends up in a tie\")"
   ]
  },
  {
   "cell_type": "markdown",
   "metadata": {},
   "source": [
    "# Bonus: Rock, Paper, Scissors, Lizard & Spock\n",
    "![](images/rpsls.jpg)\n",
    "\n",
    "In this challenge, you need to improve the previous game by adding two new options. To know more about the rules of the improved version of rock, paper, scissors, check this [link](http://www.samkass.com/theories/RPSSL.html). \n",
    "\n",
    "In addition, you will also need to improve how the game interacts with the player: the number of rounds to play, which must be an odd number, will be requested to the user until a valid number is entered. Define a new function to make that request.\n",
    "\n",
    "**Hint**: Try to reuse the code that you already coded in the previous challenge. If your code is efficient, this bonus will only consist of simple modifications to the original game."
   ]
  },
  {
   "cell_type": "code",
   "execution_count": 385,
   "metadata": {},
   "outputs": [
    {
     "name": "stdin",
     "output_type": "stream",
     "text": [
      "Enter the number of rounds:  5\n"
     ]
    },
    {
     "name": "stdout",
     "output_type": "stream",
     "text": [
      "Please choose your gesture:\n",
      "rock    paper   scissors   lizard   spock\n"
     ]
    },
    {
     "name": "stdin",
     "output_type": "stream",
     "text": [
      " lizard\n"
     ]
    },
    {
     "name": "stdout",
     "output_type": "stream",
     "text": [
      "You have chosen: lizard\n",
      "the computer has chosen: rock\n",
      "CPU wins this round\n",
      "\n",
      "Please choose your gesture:\n",
      "rock    paper   scissors   lizard   spock\n"
     ]
    },
    {
     "name": "stdin",
     "output_type": "stream",
     "text": [
      " spock\n"
     ]
    },
    {
     "name": "stdout",
     "output_type": "stream",
     "text": [
      "You have chosen: spock\n",
      "the computer has chosen: scissors\n",
      "Player wins this round\n",
      "\n",
      "Please choose your gesture:\n",
      "rock    paper   scissors   lizard   spock\n"
     ]
    },
    {
     "name": "stdin",
     "output_type": "stream",
     "text": [
      " lizard\n"
     ]
    },
    {
     "name": "stdout",
     "output_type": "stream",
     "text": [
      "You have chosen: lizard\n",
      "the computer has chosen: scissors\n",
      "CPU wins this round\n",
      "\n",
      "Please choose your gesture:\n",
      "rock    paper   scissors   lizard   spock\n"
     ]
    },
    {
     "name": "stdin",
     "output_type": "stream",
     "text": [
      " spock\n"
     ]
    },
    {
     "name": "stdout",
     "output_type": "stream",
     "text": [
      "You have chosen: spock\n",
      "the computer has chosen: lizard\n",
      "CPU wins this round\n",
      "\n",
      "Computer wins the game\n"
     ]
    }
   ],
   "source": [
    "import random\n",
    "\n",
    "gestures = [\"rock\" , \"paper\", \"scissors\", \"spock\", \"lizard\"]\n",
    "\n",
    "def rand():\n",
    "    cpu_gesture = random.choice(gestures)\n",
    "    return cpu_gesture\n",
    "\n",
    "def rounds():\n",
    "    while True:\n",
    "        try:\n",
    "            num = int(input(\"Enter the number of rounds: \"))\n",
    "            if num % 2 == 0:\n",
    "                print(\"Please input a natural odd number\")\n",
    "            else:\n",
    "                return num\n",
    "        except:\n",
    "            print(\"Please input a natural odd number\")  \n",
    "            \n",
    "n_rounds = rounds()\n",
    "rounds_to_win = int(n_rounds / 2) + 1\n",
    "    \n",
    "def choose():\n",
    "    print(\"Please choose your gesture:\\nrock    paper   scissors   lizard   spock\")\n",
    "    player_choice = str(input())\n",
    "    while player_choice not in gestures:\n",
    "        print(\"Please choose your gesture:\\nrock    paper   scissors   lizard   spock\")\n",
    "        player_choice = str(input())\n",
    "    print(\"You have chosen:\", player_choice)\n",
    "    return player_choice\n",
    "    \n",
    "\n",
    "    \n",
    "def who_won(player_choice, cpu_choice):\n",
    "    dic = {\"rock\" : 0 , \"paper\" : 1, \"scissors\" : 2, \"spock\":  3, \"lizard\" : 4}\n",
    "    if cpu_choice == player_choice:\n",
    "        return 0\n",
    "    elif dic[cpu_choice]  == (dic[player_choice] + 1) % 5:\n",
    "        return 1\n",
    "    elif dic[cpu_choice]  == (dic[player_choice] + 2) % 5:\n",
    "        return 2\n",
    "    elif dic[cpu_choice]  == (dic[player_choice] + 3) % 5:\n",
    "        return 1\n",
    "    else:\n",
    "        return 2\n",
    "\n",
    "def game():\n",
    "    y = choose()\n",
    "    z = rand()\n",
    "    print(\"the computer has chosen:\", z)\n",
    "    x = who_won(y, z)\n",
    "    if x == 1:\n",
    "        print(\"CPU wins this round\\n\")\n",
    "        return 1\n",
    "    elif x == 2:\n",
    "        print(\"Player wins this round\\n\")\n",
    "        return 2\n",
    "    else:\n",
    "        print(\"This round ends up in a tie\\n\")\n",
    "        return 0\n",
    "\n",
    "i = 0\n",
    "cpu_score = 0\n",
    "player_score = 0\n",
    "\n",
    "while i < n_rounds and player_score < rounds_to_win and cpu_score < rounds_to_win:\n",
    "    i += 1\n",
    "    x = game()\n",
    "    if x == 1:\n",
    "        cpu_score += 1\n",
    "    elif x == 2:\n",
    "        player_score += 1\n",
    "\n",
    "if player_score > cpu_score:\n",
    "    print(\"Player wins the game\")\n",
    "elif player_score < cpu_score:\n",
    "    print(\"Computer wins the game\")\n",
    "else:\n",
    "    print(\"The game ends up in a tie\")"
   ]
  }
 ],
 "metadata": {
  "kernelspec": {
   "display_name": "Python 3",
   "language": "python",
   "name": "python3"
  },
  "language_info": {
   "codemirror_mode": {
    "name": "ipython",
    "version": 3
   },
   "file_extension": ".py",
   "mimetype": "text/x-python",
   "name": "python",
   "nbconvert_exporter": "python",
   "pygments_lexer": "ipython3",
   "version": "3.8.8"
  }
 },
 "nbformat": 4,
 "nbformat_minor": 4
}
